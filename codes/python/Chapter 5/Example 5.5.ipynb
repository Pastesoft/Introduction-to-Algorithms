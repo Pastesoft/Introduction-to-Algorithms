{
 "cells": [
  {
   "cell_type": "markdown",
   "metadata": {},
   "source": [
    "input: Know(bool)\n",
    "output: celebrity"
   ]
  },
  {
   "cell_type": "code",
   "execution_count": 1,
   "metadata": {},
   "outputs": [],
   "source": [
    "def Celebrity(Know):\n",
    "    '''\n",
    "    parameters: Know is a (n, n) numpy ndarray. Know[i,j] == 1 means that People No.i+1 knows People No.j+1. \n",
    "    \n",
    "    Output: who is the celebrity of n people.\n",
    "    '''\n",
    "    n = Know.shape[0]\n",
    "    i = 0\n",
    "    j = 1\n",
    "    nexts = 2\n",
    "    while nexts <= n:\n",
    "        if Know[i,j]: \n",
    "            i = nexts\n",
    "        else: \n",
    "            j = nexts\n",
    "        nexts += 1\n",
    "    if i == n:\n",
    "        candidate = j\n",
    "    else:\n",
    "        candidate = i\n",
    "    # check whether people is celebrity\n",
    "    wrong = False\n",
    "    k = 0\n",
    "    Know[candidate, candidate] = False\n",
    "    while not wrong and k < n:\n",
    "        if Know[candidate, k]:\n",
    "            wrong = True\n",
    "        if not Know[k, candidate]:\n",
    "            if candidate != k: \n",
    "                wrong = True\n",
    "        k += 1\n",
    "    if not wrong: \n",
    "        celebrity = candidate + 1\n",
    "    else: \n",
    "        celebrity = 0\n",
    "    return celebrity\n",
    "            "
   ]
  },
  {
   "cell_type": "code",
   "execution_count": 2,
   "metadata": {},
   "outputs": [],
   "source": [
    "import numpy as np\n",
    "know = [[False, True, False],[False, False, False],[False, True, False]]\n",
    "k = np.array(know)"
   ]
  },
  {
   "cell_type": "code",
   "execution_count": 3,
   "metadata": {},
   "outputs": [
    {
     "data": {
      "text/plain": [
       "2"
      ]
     },
     "execution_count": 3,
     "metadata": {},
     "output_type": "execute_result"
    }
   ],
   "source": [
    "Celebrity(k)"
   ]
  },
  {
   "cell_type": "code",
   "execution_count": null,
   "metadata": {},
   "outputs": [],
   "source": []
  }
 ],
 "metadata": {
  "kernelspec": {
   "display_name": "Python 3",
   "language": "python",
   "name": "python3"
  },
  "language_info": {
   "codemirror_mode": {
    "name": "ipython",
    "version": 3
   },
   "file_extension": ".py",
   "mimetype": "text/x-python",
   "name": "python",
   "nbconvert_exporter": "python",
   "pygments_lexer": "ipython3",
   "version": "3.7.3"
  }
 },
 "nbformat": 4,
 "nbformat_minor": 2
}
